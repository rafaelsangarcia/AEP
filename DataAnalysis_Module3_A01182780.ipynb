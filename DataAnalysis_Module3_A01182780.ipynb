{
  "nbformat": 4,
  "nbformat_minor": 0,
  "metadata": {
    "colab": {
      "provenance": [],
      "authorship_tag": "ABX9TyPywKzIDpatGnZzj3Oo2C1y",
      "include_colab_link": true
    },
    "kernelspec": {
      "name": "python3",
      "display_name": "Python 3"
    },
    "language_info": {
      "name": "python"
    }
  },
  "cells": [
    {
      "cell_type": "markdown",
      "metadata": {
        "id": "view-in-github",
        "colab_type": "text"
      },
      "source": [
        "<a href=\"https://colab.research.google.com/github/rafaelsangarcia/AEP/blob/master/DataAnalysis_Module3_A01182780.ipynb\" target=\"_parent\"><img src=\"https://colab.research.google.com/assets/colab-badge.svg\" alt=\"Open In Colab\"/></a>"
      ]
    },
    {
      "cell_type": "markdown",
      "source": [
        "**RAFAEL SANCHEZ GARCIA**\n"
      ],
      "metadata": {
        "id": "s7ecr-21s02C"
      }
    },
    {
      "cell_type": "markdown",
      "source": [
        "#Module 3 - Exploratory Data Analysis\n"
      ],
      "metadata": {
        "id": "LbaIlY4mv4I_"
      }
    },
    {
      "cell_type": "markdown",
      "source": [
        "Exploratory Data Analysis we can abrreviate as EDA\n",
        "\n",
        "* It helps to summarize main characteristics of the data\n",
        "* Gain better understanding of the data set\n",
        "* Uncover relationships between variables\n",
        "* Extrat importan variables.\n",
        "\n",
        "So we can identify which caracteristics has more important in my data set\n"
      ],
      "metadata": {
        "id": "IABI5PJiwPLK"
      }
    },
    {
      "cell_type": "markdown",
      "source": [
        "#Module 3 - Descriptive Statistics\n",
        "\n",
        "First it is important to understand the data set first before start doing complex things"
      ],
      "metadata": {
        "id": "x2E4LEuO0jYJ"
      }
    },
    {
      "cell_type": "code",
      "source": [
        "#load some dataset\n",
        "import pandas as pd\n",
        "from sklearn.datasets import load_iris\n",
        "iriss = load_iris()\n",
        "df = pd.DataFrame(iriss.data, columns=iriss.feature_names)\n"
      ],
      "metadata": {
        "id": "WmhQSv-f-x-z"
      },
      "execution_count": 12,
      "outputs": []
    },
    {
      "cell_type": "markdown",
      "source": [
        "**Summarize statistics using pandas describe() method**"
      ],
      "metadata": {
        "id": "GLBC74bGAOww"
      }
    },
    {
      "cell_type": "code",
      "source": [
        "df.describe()"
      ],
      "metadata": {
        "id": "tVzbQkLl_v3w",
        "outputId": "c3f18e8a-b4cb-4634-b72c-e0f770094972",
        "colab": {
          "base_uri": "https://localhost:8080/",
          "height": 300
        }
      },
      "execution_count": 13,
      "outputs": [
        {
          "output_type": "execute_result",
          "data": {
            "text/plain": [
              "       sepal length (cm)  sepal width (cm)  petal length (cm)  \\\n",
              "count         150.000000        150.000000         150.000000   \n",
              "mean            5.843333          3.057333           3.758000   \n",
              "std             0.828066          0.435866           1.765298   \n",
              "min             4.300000          2.000000           1.000000   \n",
              "25%             5.100000          2.800000           1.600000   \n",
              "50%             5.800000          3.000000           4.350000   \n",
              "75%             6.400000          3.300000           5.100000   \n",
              "max             7.900000          4.400000           6.900000   \n",
              "\n",
              "       petal width (cm)  \n",
              "count        150.000000  \n",
              "mean           1.199333  \n",
              "std            0.762238  \n",
              "min            0.100000  \n",
              "25%            0.300000  \n",
              "50%            1.300000  \n",
              "75%            1.800000  \n",
              "max            2.500000  "
            ],
            "text/html": [
              "\n",
              "  <div id=\"df-c925e667-51c4-43e2-b8a5-48b8e1c1c82a\">\n",
              "    <div class=\"colab-df-container\">\n",
              "      <div>\n",
              "<style scoped>\n",
              "    .dataframe tbody tr th:only-of-type {\n",
              "        vertical-align: middle;\n",
              "    }\n",
              "\n",
              "    .dataframe tbody tr th {\n",
              "        vertical-align: top;\n",
              "    }\n",
              "\n",
              "    .dataframe thead th {\n",
              "        text-align: right;\n",
              "    }\n",
              "</style>\n",
              "<table border=\"1\" class=\"dataframe\">\n",
              "  <thead>\n",
              "    <tr style=\"text-align: right;\">\n",
              "      <th></th>\n",
              "      <th>sepal length (cm)</th>\n",
              "      <th>sepal width (cm)</th>\n",
              "      <th>petal length (cm)</th>\n",
              "      <th>petal width (cm)</th>\n",
              "    </tr>\n",
              "  </thead>\n",
              "  <tbody>\n",
              "    <tr>\n",
              "      <th>count</th>\n",
              "      <td>150.000000</td>\n",
              "      <td>150.000000</td>\n",
              "      <td>150.000000</td>\n",
              "      <td>150.000000</td>\n",
              "    </tr>\n",
              "    <tr>\n",
              "      <th>mean</th>\n",
              "      <td>5.843333</td>\n",
              "      <td>3.057333</td>\n",
              "      <td>3.758000</td>\n",
              "      <td>1.199333</td>\n",
              "    </tr>\n",
              "    <tr>\n",
              "      <th>std</th>\n",
              "      <td>0.828066</td>\n",
              "      <td>0.435866</td>\n",
              "      <td>1.765298</td>\n",
              "      <td>0.762238</td>\n",
              "    </tr>\n",
              "    <tr>\n",
              "      <th>min</th>\n",
              "      <td>4.300000</td>\n",
              "      <td>2.000000</td>\n",
              "      <td>1.000000</td>\n",
              "      <td>0.100000</td>\n",
              "    </tr>\n",
              "    <tr>\n",
              "      <th>25%</th>\n",
              "      <td>5.100000</td>\n",
              "      <td>2.800000</td>\n",
              "      <td>1.600000</td>\n",
              "      <td>0.300000</td>\n",
              "    </tr>\n",
              "    <tr>\n",
              "      <th>50%</th>\n",
              "      <td>5.800000</td>\n",
              "      <td>3.000000</td>\n",
              "      <td>4.350000</td>\n",
              "      <td>1.300000</td>\n",
              "    </tr>\n",
              "    <tr>\n",
              "      <th>75%</th>\n",
              "      <td>6.400000</td>\n",
              "      <td>3.300000</td>\n",
              "      <td>5.100000</td>\n",
              "      <td>1.800000</td>\n",
              "    </tr>\n",
              "    <tr>\n",
              "      <th>max</th>\n",
              "      <td>7.900000</td>\n",
              "      <td>4.400000</td>\n",
              "      <td>6.900000</td>\n",
              "      <td>2.500000</td>\n",
              "    </tr>\n",
              "  </tbody>\n",
              "</table>\n",
              "</div>\n",
              "      <button class=\"colab-df-convert\" onclick=\"convertToInteractive('df-c925e667-51c4-43e2-b8a5-48b8e1c1c82a')\"\n",
              "              title=\"Convert this dataframe to an interactive table.\"\n",
              "              style=\"display:none;\">\n",
              "        \n",
              "  <svg xmlns=\"http://www.w3.org/2000/svg\" height=\"24px\"viewBox=\"0 0 24 24\"\n",
              "       width=\"24px\">\n",
              "    <path d=\"M0 0h24v24H0V0z\" fill=\"none\"/>\n",
              "    <path d=\"M18.56 5.44l.94 2.06.94-2.06 2.06-.94-2.06-.94-.94-2.06-.94 2.06-2.06.94zm-11 1L8.5 8.5l.94-2.06 2.06-.94-2.06-.94L8.5 2.5l-.94 2.06-2.06.94zm10 10l.94 2.06.94-2.06 2.06-.94-2.06-.94-.94-2.06-.94 2.06-2.06.94z\"/><path d=\"M17.41 7.96l-1.37-1.37c-.4-.4-.92-.59-1.43-.59-.52 0-1.04.2-1.43.59L10.3 9.45l-7.72 7.72c-.78.78-.78 2.05 0 2.83L4 21.41c.39.39.9.59 1.41.59.51 0 1.02-.2 1.41-.59l7.78-7.78 2.81-2.81c.8-.78.8-2.07 0-2.86zM5.41 20L4 18.59l7.72-7.72 1.47 1.35L5.41 20z\"/>\n",
              "  </svg>\n",
              "      </button>\n",
              "      \n",
              "  <style>\n",
              "    .colab-df-container {\n",
              "      display:flex;\n",
              "      flex-wrap:wrap;\n",
              "      gap: 12px;\n",
              "    }\n",
              "\n",
              "    .colab-df-convert {\n",
              "      background-color: #E8F0FE;\n",
              "      border: none;\n",
              "      border-radius: 50%;\n",
              "      cursor: pointer;\n",
              "      display: none;\n",
              "      fill: #1967D2;\n",
              "      height: 32px;\n",
              "      padding: 0 0 0 0;\n",
              "      width: 32px;\n",
              "    }\n",
              "\n",
              "    .colab-df-convert:hover {\n",
              "      background-color: #E2EBFA;\n",
              "      box-shadow: 0px 1px 2px rgba(60, 64, 67, 0.3), 0px 1px 3px 1px rgba(60, 64, 67, 0.15);\n",
              "      fill: #174EA6;\n",
              "    }\n",
              "\n",
              "    [theme=dark] .colab-df-convert {\n",
              "      background-color: #3B4455;\n",
              "      fill: #D2E3FC;\n",
              "    }\n",
              "\n",
              "    [theme=dark] .colab-df-convert:hover {\n",
              "      background-color: #434B5C;\n",
              "      box-shadow: 0px 1px 3px 1px rgba(0, 0, 0, 0.15);\n",
              "      filter: drop-shadow(0px 1px 2px rgba(0, 0, 0, 0.3));\n",
              "      fill: #FFFFFF;\n",
              "    }\n",
              "  </style>\n",
              "\n",
              "      <script>\n",
              "        const buttonEl =\n",
              "          document.querySelector('#df-c925e667-51c4-43e2-b8a5-48b8e1c1c82a button.colab-df-convert');\n",
              "        buttonEl.style.display =\n",
              "          google.colab.kernel.accessAllowed ? 'block' : 'none';\n",
              "\n",
              "        async function convertToInteractive(key) {\n",
              "          const element = document.querySelector('#df-c925e667-51c4-43e2-b8a5-48b8e1c1c82a');\n",
              "          const dataTable =\n",
              "            await google.colab.kernel.invokeFunction('convertToInteractive',\n",
              "                                                     [key], {});\n",
              "          if (!dataTable) return;\n",
              "\n",
              "          const docLinkHtml = 'Like what you see? Visit the ' +\n",
              "            '<a target=\"_blank\" href=https://colab.research.google.com/notebooks/data_table.ipynb>data table notebook</a>'\n",
              "            + ' to learn more about interactive tables.';\n",
              "          element.innerHTML = '';\n",
              "          dataTable['output_type'] = 'display_data';\n",
              "          await google.colab.output.renderOutput(dataTable, element);\n",
              "          const docLink = document.createElement('div');\n",
              "          docLink.innerHTML = docLinkHtml;\n",
              "          element.appendChild(docLink);\n",
              "        }\n",
              "      </script>\n",
              "    </div>\n",
              "  </div>\n",
              "  "
            ]
          },
          "metadata": {},
          "execution_count": 13
        }
      ]
    },
    {
      "cell_type": "code",
      "source": [
        "df['sepal length (cm)'].value_counts()"
      ],
      "metadata": {
        "id": "HAK4uilfAbI5",
        "outputId": "586c82c1-17fd-4a44-af46-566a937206ea",
        "colab": {
          "base_uri": "https://localhost:8080/"
        }
      },
      "execution_count": 16,
      "outputs": [
        {
          "output_type": "execute_result",
          "data": {
            "text/plain": [
              "5.0    10\n",
              "5.1     9\n",
              "6.3     9\n",
              "5.7     8\n",
              "6.7     8\n",
              "5.8     7\n",
              "5.5     7\n",
              "6.4     7\n",
              "4.9     6\n",
              "5.4     6\n",
              "6.1     6\n",
              "6.0     6\n",
              "5.6     6\n",
              "4.8     5\n",
              "6.5     5\n",
              "6.2     4\n",
              "7.7     4\n",
              "6.9     4\n",
              "4.6     4\n",
              "5.2     4\n",
              "5.9     3\n",
              "4.4     3\n",
              "7.2     3\n",
              "6.8     3\n",
              "6.6     2\n",
              "4.7     2\n",
              "7.6     1\n",
              "7.4     1\n",
              "7.3     1\n",
              "7.0     1\n",
              "7.1     1\n",
              "5.3     1\n",
              "4.3     1\n",
              "4.5     1\n",
              "7.9     1\n",
              "Name: sepal length (cm), dtype: int64"
            ]
          },
          "metadata": {},
          "execution_count": 16
        }
      ]
    },
    {
      "cell_type": "markdown",
      "source": [
        "**Counts each value**\n"
      ],
      "metadata": {
        "id": "HbYpsofuBfUO"
      }
    },
    {
      "cell_type": "markdown",
      "source": [
        "Box plot are so useful to see better the data\n",
        "\n",
        "![image.png](data:image/png;base64,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)\n"
      ],
      "metadata": {
        "id": "mxfoEsAWBkrU"
      }
    },
    {
      "cell_type": "markdown",
      "source": [
        "With scatterplot we can see the relationship betweem two variables, each observation represent a point\n",
        "\n",
        "We can see if there is a correlation between variables or a relation could be positve or negative\n"
      ],
      "metadata": {
        "id": "l3cyAWMNCE_u"
      }
    },
    {
      "cell_type": "markdown",
      "source": [
        "#Module 3 - Group by"
      ],
      "metadata": {
        "id": "WPV4aP0tCeWK"
      }
    }
  ]
}